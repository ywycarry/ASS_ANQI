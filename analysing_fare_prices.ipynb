{
 "cells": [
  {
   "cell_type": "markdown",
   "id": "79b9d575",
   "metadata": {},
   "source": [
    "# Analysing Fare Prices\n",
    "\n",
    "This notebook contains a sample workflow that you are planning to run to test your hypothesis about the price of train fares across the UK network.\n",
    "\n",
    "The workflow is split across multiple cells, with the commands in each grouped by their functionality and order of appearance in the assignment.\n",
    "You do not have to write the functions in this order, however know that cells lower down in the workflow may depend on those closer to the top!"
   ]
  },
  {
   "cell_type": "code",
   "execution_count": null,
   "id": "1a6df4cc-bb06-4e4b-acea-2de55c3e26ce",
   "metadata": {
    "tags": []
   },
   "outputs": [],
   "source": [
    "from railway import Station, RailNetwork\n",
    "from utilities import read_rail_network\n",
    "\n",
    "edinburgh_park = Station(\"Edinburgh Park\", \"Scotland\", \"EDP\", 55.927615, -3.307829, False)"
   ]
  },
  {
   "cell_type": "code",
   "execution_count": null,
   "id": "d594549f-a5b2-481f-9db3-40ce7a6a0c3b",
   "metadata": {
    "tags": []
   },
   "outputs": [],
   "source": [
    "from pathlib import Path\n",
    "\n",
    "network_csv = Path(\"uk_stations.csv\")\n",
    "rail_network = read_rail_network(network_csv)"
   ]
  },
  {
   "cell_type": "code",
   "execution_count": null,
   "id": "6b421e0d-02bc-4788-9d5a-c7b94f7a00e8",
   "metadata": {},
   "outputs": [],
   "source": [
    "print(f\"There are {rail_network.n_stations} stations in the network\")\n",
    "\n",
    "print(f\"These are the regions: {rail_network.regions}\")\n",
    "\n",
    "# After implementing the regions method for rail network,\n",
    "# the plot_network() command will work.\n",
    "rail_network.plot_network()"
   ]
  },
  {
   "cell_type": "code",
   "execution_count": null,
   "id": "19071954-8e0e-4946-8e63-befa594f904f",
   "metadata": {},
   "outputs": [],
   "source": [
    "print(f\"There are {len(rail_network.hub_stations())} hub stations in this network\")\n",
    "\n",
    "print(f\"The hub closest to Edinburgh Park is {rail_network.closest_hub(edinburgh_park)}\")"
   ]
  },
  {
   "cell_type": "code",
   "execution_count": null,
   "id": "453418a4-2d33-4216-af11-adbb36f93d2a",
   "metadata": {},
   "outputs": [],
   "source": [
    "print(f\"Journey from Edinburgh Park to Worthing: {rail_network.journey_planner('EDP', 'WRH')}\")\n",
    "\n",
    "# After implementing the journey_planner function, plot_journey() can be called\n",
    "rail_network.plot_journey(\"EDP\", \"WRH\")"
   ]
  },
  {
   "cell_type": "code",
   "execution_count": null,
   "id": "40cb66fc-e09d-4442-a77d-fcd08ffb5c85",
   "metadata": {},
   "outputs": [],
   "source": [
    "rail_network.journey_fare(\"EDP\", \"WRH\", summary=True)"
   ]
  },
  {
   "cell_type": "code",
   "execution_count": null,
   "id": "fda6b99a-4630-4dfd-a6d5-6cf23ca7acd7",
   "metadata": {},
   "outputs": [],
   "source": [
    "# The bins and fill options, as well as any other keywords provided to the method,\n",
    "# should also be passed to the hist() function.\n",
    "rail_network.plot_fares_to(\"BRI\", save=True, bins=20, fill=False)\n",
    "# This plot should not be saved to a file\n",
    "rail_network.plot_fares_to(\"BRI\", save=False, color=\"red\")"
   ]
  }
 ],
 "metadata": {
  "kernelspec": {
   "display_name": "Python 3 (ipykernel)",
   "language": "python",
   "name": "python3"
  },
  "language_info": {
   "codemirror_mode": {
    "name": "ipython",
    "version": 3
   },
   "file_extension": ".py",
   "mimetype": "text/x-python",
   "name": "python",
   "nbconvert_exporter": "python",
   "pygments_lexer": "ipython3",
   "version": "3.11.5"
  }
 },
 "nbformat": 4,
 "nbformat_minor": 5
}
